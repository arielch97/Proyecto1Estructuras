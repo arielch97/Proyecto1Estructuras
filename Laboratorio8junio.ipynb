{
  "nbformat": 4,
  "nbformat_minor": 0,
  "metadata": {
    "colab": {
      "name": "Laboratorio8junio.ipynb",
      "provenance": [],
      "authorship_tag": "ABX9TyM7SMtjsomZhQeqJsoYArb4",
      "include_colab_link": true
    },
    "kernelspec": {
      "name": "python3",
      "display_name": "Python 3"
    },
    "language_info": {
      "name": "python"
    }
  },
  "cells": [
    {
      "cell_type": "markdown",
      "metadata": {
        "id": "view-in-github",
        "colab_type": "text"
      },
      "source": [
        "<a href=\"https://colab.research.google.com/github/arielch97/Proyecto1Estructuras/blob/master/Laboratorio8junio.ipynb\" target=\"_parent\"><img src=\"https://colab.research.google.com/assets/colab-badge.svg\" alt=\"Open In Colab\"/></a>"
      ]
    },
    {
      "cell_type": "markdown",
      "source": [
        "Laboratorio inicial sobre el uso de Colab"
      ],
      "metadata": {
        "id": "LmND_KLlBiCO"
      }
    },
    {
      "cell_type": "markdown",
      "source": [
        "Kenneth Ariel Chaves Herrera"
      ],
      "metadata": {
        "id": "1Xk1xS_xB0SC"
      }
    },
    {
      "cell_type": "code",
      "source": [
        "print('Hola Mundo')"
      ],
      "metadata": {
        "colab": {
          "base_uri": "https://localhost:8080/"
        },
        "id": "chRuKzfHBtpZ",
        "outputId": "bdde0a69-b58a-457f-d14e-114998e47a86"
      },
      "execution_count": null,
      "outputs": [
        {
          "output_type": "stream",
          "name": "stdout",
          "text": [
            "Hola Mundo\n"
          ]
        }
      ]
    },
    {
      "cell_type": "code",
      "source": [
        "import pandas as pd\n",
        "\n",
        "from google.colab import auth\n",
        "auth.authenticate_user()\n",
        "\n",
        "import gspread\n",
        "from google.auth import default\n",
        "creds, _ = default()\n",
        "\n",
        "gc=gspread.authorize(creds)\n",
        "sh=gc.create('Hojita')"
      ],
      "metadata": {
        "id": "Gul_mAkQBtvV"
      },
      "execution_count": null,
      "outputs": []
    },
    {
      "cell_type": "code",
      "source": [
        "from gspread.models import Worksheet\n",
        "worksheet=gc.open('Hojita').sheet1\n",
        "\n",
        "cell_list = worksheet.range('A1:G14')\n",
        "\n",
        "import random\n",
        "for cell in cell_list:\n",
        "  cell.value = random.randint(1,10)\n",
        "\n",
        "worksheet.update_cells(cell_list)\n"
      ],
      "metadata": {
        "colab": {
          "base_uri": "https://localhost:8080/"
        },
        "id": "oAQomWZoE83e",
        "outputId": "00aeaa61-396f-467b-fa23-55c67c2046c4"
      },
      "execution_count": null,
      "outputs": [
        {
          "output_type": "execute_result",
          "data": {
            "text/plain": [
              "{'spreadsheetId': '1lBzhsSBKJFDNtNOi6OZ0IgwYRU5Q3xcGh12qVam3F7o',\n",
              " 'updatedCells': 98,\n",
              " 'updatedColumns': 7,\n",
              " 'updatedRange': \"'Hoja 1'!A1:G14\",\n",
              " 'updatedRows': 14}"
            ]
          },
          "metadata": {},
          "execution_count": 5
        }
      ]
    },
    {
      "cell_type": "code",
      "source": [
        "worksheet = gc.open('Hojita').sheet1\n",
        "rows=worksheet.get_all_values()\n",
        "print(rows)"
      ],
      "metadata": {
        "colab": {
          "base_uri": "https://localhost:8080/"
        },
        "id": "rfHEbj2SIK7D",
        "outputId": "9074f262-527d-40e5-f6e7-f77ec947438c"
      },
      "execution_count": null,
      "outputs": [
        {
          "output_type": "stream",
          "name": "stdout",
          "text": [
            "[['10', '8', '6', '9', '4', '7', '4'], ['7', '2', '4', '9', '8', '2', '3'], ['6', '4', '3', '9', '5', '2', '2'], ['8', '4', '9', '3', '6', '9', '6'], ['7', '1', '2', '4', '5', '4', '6'], ['10', '2', '4', '4', '2', '7', '6'], ['5', '1', '8', '8', '1', '2', '4'], ['3', '9', '1', '2', '4', '1', '8'], ['5', '10', '10', '7', '2', '2', '1'], ['9', '7', '9', '1', '1', '7', '7'], ['7', '9', '9', '4', '10', '4', '1'], ['6', '9', '4', '1', '9', '6', '6'], ['10', '9', '6', '1', '8', '6', '1'], ['1', '4', '4', '8', '4', '2', '8']]\n"
          ]
        }
      ]
    }
  ]
}